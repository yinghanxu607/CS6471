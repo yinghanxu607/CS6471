{
 "cells": [
  {
   "cell_type": "code",
   "execution_count": 1,
   "metadata": {},
   "outputs": [],
   "source": [
    "import numpy as np\n",
    "import pandas as pd\n",
    "import matplotlib.pyplot as plt"
   ]
  },
  {
   "cell_type": "code",
   "execution_count": 16,
   "metadata": {},
   "outputs": [],
   "source": [
    "data = pd.read_csv('winequality-red.csv',skipinitialspace=True)"
   ]
  },
  {
   "cell_type": "code",
   "execution_count": 17,
   "metadata": {},
   "outputs": [],
   "source": [
    "wine = data"
   ]
  },
  {
   "cell_type": "code",
   "execution_count": 18,
   "metadata": {},
   "outputs": [],
   "source": [
    "reviews = []\n",
    "for i in wine['quality']:\n",
    "    if i >= 3 and i <= 4:\n",
    "        reviews.append('1')\n",
    "    elif i >= 5 and i <= 6:\n",
    "        reviews.append('2')\n",
    "    elif i >= 7 and i <= 8:\n",
    "        reviews.append('3')\n",
    "wine['Reviews'] = reviews\n",
    "wine_labels = wine['Reviews'].copy()\n",
    "wine_set = wine.copy()"
   ]
  },
  {
   "cell_type": "code",
   "execution_count": 19,
   "metadata": {},
   "outputs": [],
   "source": [
    "from sklearn.model_selection import train_test_split\n",
    "wine_set.drop(columns=['quality','residual sugar','free sulfur dioxide','pH','Reviews','fixed acidity'], inplace=True)\n",
    "train_set, test_set, train_labels, test_labels = train_test_split(wine_set,wine_labels,test_size=0.4,random_state=42)\n",
    "\n"
   ]
  },
  {
   "cell_type": "code",
   "execution_count": 20,
   "metadata": {},
   "outputs": [],
   "source": [
    "from sklearn.preprocessing import StandardScaler,OneHotEncoder\n",
    "scaler = StandardScaler()\n",
    "scaler.fit(train_set)\n",
    "train_set_scaler = scaler.transform(train_set)"
   ]
  },
  {
   "cell_type": "code",
   "execution_count": 21,
   "metadata": {},
   "outputs": [],
   "source": [
    "scaler.fit(test_set)\n",
    "test_set_scaler = scaler.transform(test_set)"
   ]
  },
  {
   "cell_type": "code",
   "execution_count": 22,
   "metadata": {},
   "outputs": [
    {
     "name": "stderr",
     "output_type": "stream",
     "text": [
      "/anaconda3/lib/python3.7/site-packages/sklearn/preprocessing/_encoders.py:368: FutureWarning: The handling of integer data will change in version 0.22. Currently, the categories are determined based on the range [0, max(values)], while in the future they will be determined based on the unique values.\n",
      "If you want the future behaviour and silence this warning, you can specify \"categories='auto'\".\n",
      "In case you used a LabelEncoder before this OneHotEncoder to convert the categories to integers, then you can now use the OneHotEncoder directly.\n",
      "  warnings.warn(msg, FutureWarning)\n"
     ]
    }
   ],
   "source": [
    "one_hot = OneHotEncoder()\n",
    "\n",
    "train_labels_hot = one_hot.fit_transform(train_labels.values.reshape(-1, 1)).todense()\n",
    "test_labels_hot = one_hot.transform(test_labels.values.reshape(-1, 1)).todense()"
   ]
  },
  {
   "cell_type": "code",
   "execution_count": 23,
   "metadata": {},
   "outputs": [],
   "source": [
    "import mlrose\n",
    "from sklearn.metrics import accuracy_score"
   ]
  },
  {
   "cell_type": "code",
   "execution_count": 65,
   "metadata": {},
   "outputs": [],
   "source": [
    "np.random.seed(3)\n",
    "\n",
    "nn_model1 = mlrose.NeuralNetwork(hidden_nodes = [3], activation = 'relu', \\\n",
    "                                 algorithm = 'random_hill_climb', max_iters = 5000, \\\n",
    "                                 bias = True, is_classifier = True, learning_rate = 0.0001, \\\n",
    "                                 early_stopping = True, clip_max = 5, max_attempts = 100)\n",
    "\n",
    "nn_model1.fit(train_set_scaler, train_labels_hot)"
   ]
  },
  {
   "cell_type": "code",
   "execution_count": 66,
   "metadata": {},
   "outputs": [
    {
     "name": "stdout",
     "output_type": "stream",
     "text": [
      "0.4629822732012513\n"
     ]
    }
   ],
   "source": [
    "train_pred1 = nn_model1.predict(train_set_scaler)\n",
    "train_accuracy1 = accuracy_score(train_labels_hot, train_pred1)\n",
    "print(train_accuracy1)"
   ]
  },
  {
   "cell_type": "code",
   "execution_count": 67,
   "metadata": {},
   "outputs": [
    {
     "name": "stdout",
     "output_type": "stream",
     "text": [
      "0.4375\n"
     ]
    }
   ],
   "source": [
    "test_pred1 = nn_model1.predict(test_set_scaler)\n",
    "test_accuracy1 = accuracy_score(test_labels_hot, test_pred1)\n",
    "print(test_accuracy1)"
   ]
  },
  {
   "cell_type": "code",
   "execution_count": 32,
   "metadata": {},
   "outputs": [],
   "source": [
    "accuracy1_train = []\n",
    "accuracy1_test = []    \n",
    "for i in range(4000,28000,2000):\n",
    "\n",
    "    np.random.seed(3)\n",
    "    nn_model1 = mlrose.NeuralNetwork(hidden_nodes = [3], activation = 'relu', \\\n",
    "                                 algorithm = 'random_hill_climb', max_iters = i, \\\n",
    "                                 bias = True, is_classifier = True, learning_rate = 0.01, \\\n",
    "                                 early_stopping = True, clip_max = 5, max_attempts = 100)\n",
    "\n",
    "    nn_model1.fit(train_set_scaler, train_labels_hot)\n",
    "    train_pred1 = nn_model1.predict(train_set_scaler)\n",
    "    train_accuracy1 = accuracy_score(train_labels_hot, train_pred1)\n",
    "    accuracy1_train += [train_accuracy1]\n",
    "    \n",
    "    nn_model1.fit(test_set_scaler, test_labels_hot)\n",
    "    test_pred1 = nn_model1.predict(test_set_scaler)\n",
    "    test_accuracy1 = accuracy_score(test_labels_hot, test_pred1)\n",
    "    accuracy1_test += [test_accuracy1]"
   ]
  },
  {
   "cell_type": "code",
   "execution_count": 26,
   "metadata": {},
   "outputs": [
    {
     "data": {
      "image/png": "[encoded data removed]",
      "text/plain": [
       "<Figure size 432x288 with 1 Axes>"
      ]
     },
     "metadata": {
      "needs_background": "light"
     },
     "output_type": "display_data"
    }
   ],
   "source": [
    "x = range(4000,28000,2000)\n",
    "plt.title('Random Hill Climbing')\n",
    "plt.plot(x,accuracy1_train,color= 'b',label='Train')\n",
    "plt.plot(x,accuracy1_test,color= 'g',label='Test')\n",
    "plt.legend()\n",
    "plt.xlabel('Iteration times')\n",
    "plt.ylabel('Accuracy')\n",
    "plt.show()"
   ]
  },
  {
   "cell_type": "code",
   "execution_count": 349,
   "metadata": {},
   "outputs": [],
   "source": [
    "accuracy2_train1 = []\n",
    "for i in range(4000,28000,2000):\n",
    "    np.random.seed(3)\n",
    "\n",
    "    nn_model2 = mlrose.NeuralNetwork(hidden_nodes = [3], activation = 'relu', \\\n",
    "                                 algorithm = 'simulated_annealing', max_iters = i, \\\n",
    "                                 bias = True, is_classifier = True, learning_rate = 0.01, \\\n",
    "                                 early_stopping = True, clip_max = 5, max_attempts = 100)\n",
    "\n",
    "    nn_model2.fit(train_set_scaler, train_labels_hot)\n",
    "    train_pred2 = nn_model2.predict(train_set_scaler)\n",
    "    train_accuracy2 = accuracy_score(train_labels_hot, train_pred2)\n",
    "    #print(train_accuracy2)\n",
    "    accuracy2_train1 += [train_accuracy2]"
   ]
  },
  {
   "cell_type": "code",
   "execution_count": 27,
   "metadata": {},
   "outputs": [],
   "source": [
    "accuracy2_train2 = []\n",
    "for i in range(4000,28000,2000):\n",
    "    np.random.seed(3)\n",
    "\n",
    "    nn_model2 = mlrose.NeuralNetwork(hidden_nodes = [3], activation = 'relu', \\\n",
    "                                 algorithm = 'simulated_annealing',schedule=mlrose.GeomDecay(init_temp=5), max_iters = i, \\\n",
    "                                 bias = True, is_classifier = True, learning_rate = 0.01, \\\n",
    "                                 early_stopping = True, clip_max = 5, max_attempts = 100)\n",
    "\n",
    "    nn_model2.fit(train_set_scaler, train_labels_hot)\n",
    "    train_pred2 = nn_model2.predict(train_set_scaler)\n",
    "    train_accuracy2 = accuracy_score(train_labels_hot, train_pred2)\n",
    "    #print(train_accuracy2)\n",
    "    accuracy2_train2 += [train_accuracy2]"
   ]
  },
  {
   "cell_type": "code",
   "execution_count": 351,
   "metadata": {},
   "outputs": [],
   "source": [
    "accuracy2_train3 = []\n",
    "for i in range(4000,28000,2000):\n",
    "    np.random.seed(3)\n",
    "\n",
    "    nn_model2 = mlrose.NeuralNetwork(hidden_nodes = [3], activation = 'relu', \\\n",
    "                                 algorithm = 'simulated_annealing',schedule=mlrose.GeomDecay(init_temp=10), max_iters = i, \\\n",
    "                                 bias = True, is_classifier = True, learning_rate = 0.01, \\\n",
    "                                 early_stopping = True, clip_max = 5, max_attempts = 100)\n",
    "\n",
    "    nn_model2.fit(train_set_scaler, train_labels_hot)\n",
    "    train_pred2 = nn_model2.predict(train_set_scaler)\n",
    "    train_accuracy2 = accuracy_score(train_labels_hot, train_pred2)\n",
    "    #print(train_accuracy2)\n",
    "    accuracy2_train3 += [train_accuracy2]"
   ]
  },
  {
   "cell_type": "code",
   "execution_count": 352,
   "metadata": {},
   "outputs": [
    {
     "data": {
      "image/png": "[encoded data removed]",
      "text/plain": [
       "<Figure size 432x288 with 1 Axes>"
      ]
     },
     "metadata": {
      "needs_background": "light"
     },
     "output_type": "display_data"
    }
   ],
   "source": [
    "x = range(4000,28000,2000)\n",
    "plt.title('Simulated Annealing')\n",
    "plt.plot(x,accuracy2_train1,color= 'b',label='Temp = 1')\n",
    "plt.plot(x,accuracy2_train2,color= 'g',label='Temp = 5')\n",
    "plt.plot(x,accuracy2_train3,color= 'c',label='Temp = 10')\n",
    "plt.legend()\n",
    "plt.xlabel('Iteration times')\n",
    "plt.ylabel('Accuracy')\n",
    "plt.show()"
   ]
  },
  {
   "cell_type": "code",
   "execution_count": 36,
   "metadata": {},
   "outputs": [],
   "source": [
    "np.random.seed(3)\n",
    "\n",
    "nn_modelsa = mlrose.NeuralNetwork(hidden_nodes = [3], activation = 'relu', \\\n",
    "                                 algorithm = 'simulated_annealing',schedule=mlrose.GeomDecay(init_temp=5), max_iters = 30000, \\\n",
    "                                 bias = True, is_classifier = True, learning_rate = 0.01, \\\n",
    "                                 early_stopping = True, clip_max = 5, max_attempts = 100)\n",
    "\n",
    "nn_modelsa.fit(train_set_scaler, train_labels_hot)"
   ]
  },
  {
   "cell_type": "code",
   "execution_count": 37,
   "metadata": {},
   "outputs": [
    {
     "name": "stdout",
     "output_type": "stream",
     "text": [
      "0.8435870698644421\n"
     ]
    }
   ],
   "source": [
    "train_pred_sa = nn_modelsa.predict(train_set_scaler)\n",
    "train_accuracy_sa = accuracy_score(train_labels_hot, train_pred_sa)\n",
    "print(train_accuracy_sa)"
   ]
  },
  {
   "cell_type": "code",
   "execution_count": 353,
   "metadata": {},
   "outputs": [],
   "source": [
    "\n",
    "accuracy3_train1 = []\n",
    "for i in range(4000,28000,2000):\n",
    "    np.random.seed(3)\n",
    "\n",
    "    nn_model3 = mlrose.NeuralNetwork(hidden_nodes = [3], activation = 'relu', \\\n",
    "                                 algorithm = 'genetic_alg', pop_size=50 ,max_iters = i, \\\n",
    "                                 bias = True, is_classifier = True, learning_rate = 0.01, \\\n",
    "                                 early_stopping = True, clip_max = 1, max_attempts = 100)\n",
    "\n",
    "    nn_model3.fit(train_set_scaler, train_labels_hot)\n",
    "    train_pred3 = nn_model3.predict(train_set_scaler)\n",
    "    train_accuracy3 = accuracy_score(train_labels_hot, train_pred3)\n",
    "    accuracy3_train1 += [train_accuracy3]"
   ]
  },
  {
   "cell_type": "code",
   "execution_count": 358,
   "metadata": {},
   "outputs": [
    {
     "data": {
      "text/plain": [
       "[0.7685088633993743,\n",
       " 0.7685088633993743,\n",
       " 0.7685088633993743,\n",
       " 0.7685088633993743,\n",
       " 0.7685088633993743,\n",
       " 0.7685088633993743,\n",
       " 0.7685088633993743,\n",
       " 0.7685088633993743,\n",
       " 0.7685088633993743,\n",
       " 0.7685088633993743,\n",
       " 0.7685088633993743,\n",
       " 0.7685088633993743]"
      ]
     },
     "execution_count": 358,
     "metadata": {},
     "output_type": "execute_result"
    }
   ],
   "source": [
    "accuracy3_train1"
   ]
  },
  {
   "cell_type": "code",
   "execution_count": 354,
   "metadata": {},
   "outputs": [],
   "source": [
    "\n",
    "accuracy3_train2 = []\n",
    "for i in range(4000,28000,2000):\n",
    "    np.random.seed(3)\n",
    "\n",
    "    nn_model3 = mlrose.NeuralNetwork(hidden_nodes = [3], activation = 'relu', \\\n",
    "                                 algorithm = 'genetic_alg',pop_size=100, max_iters = i, \\\n",
    "                                 bias = True, is_classifier = True, learning_rate = 0.01, \\\n",
    "                                 early_stopping = True, clip_max = 1, max_attempts = 100)\n",
    "\n",
    "    nn_model3.fit(train_set_scaler, train_labels_hot)\n",
    "    train_pred3 = nn_model3.predict(train_set_scaler)\n",
    "    train_accuracy3 = accuracy_score(train_labels_hot, train_pred3)\n",
    "    accuracy3_train2 += [train_accuracy3]"
   ]
  },
  {
   "cell_type": "code",
   "execution_count": 357,
   "metadata": {},
   "outputs": [
    {
     "data": {
      "text/plain": [
       "[0.7685088633993743,\n",
       " 0.7685088633993743,\n",
       " 0.7685088633993743,\n",
       " 0.7685088633993743,\n",
       " 0.7685088633993743,\n",
       " 0.7685088633993743,\n",
       " 0.7685088633993743,\n",
       " 0.7685088633993743,\n",
       " 0.7685088633993743,\n",
       " 0.7685088633993743,\n",
       " 0.7685088633993743,\n",
       " 0.7685088633993743]"
      ]
     },
     "execution_count": 357,
     "metadata": {},
     "output_type": "execute_result"
    }
   ],
   "source": [
    " accuracy3_train2"
   ]
  },
  {
   "cell_type": "code",
   "execution_count": 355,
   "metadata": {},
   "outputs": [],
   "source": [
    "\n",
    "accuracy3_train3 = []\n",
    "for i in range(4000,28000,2000):\n",
    "    np.random.seed(3)\n",
    "\n",
    "    nn_model3 = mlrose.NeuralNetwork(hidden_nodes = [3], activation = 'relu', \\\n",
    "                                 algorithm = 'genetic_alg',pop_size=200, max_iters = i, \\\n",
    "                                 bias = True, is_classifier = True, learning_rate = 0.01, \\\n",
    "                                 early_stopping = True, clip_max = 1, max_attempts = 100)\n",
    "\n",
    "    nn_model3.fit(train_set_scaler, train_labels_hot)\n",
    "    train_pred3 = nn_model3.predict(train_set_scaler)\n",
    "    train_accuracy3 = accuracy_score(train_labels_hot, train_pred3)\n",
    "    accuracy3_train3 += [train_accuracy3]"
   ]
  },
  {
   "cell_type": "code",
   "execution_count": 356,
   "metadata": {},
   "outputs": [
    {
     "data": {
      "image/png": "[encoded data removed]",
      "text/plain": [
       "<Figure size 432x288 with 1 Axes>"
      ]
     },
     "metadata": {
      "needs_background": "light"
     },
     "output_type": "display_data"
    }
   ],
   "source": [
    "x = range(4000,28000,2000)\n",
    "plt.title('Genetic Algorithm')\n",
    "plt.plot(x,accuracy3_train1,color= 'b',label='Population size = 50')\n",
    "plt.plot(x,accuracy3_train2,color= 'g',label='Population size = 100')\n",
    "plt.plot(x,accuracy3_train3,color= 'c',label='Population size = 200')\n",
    "plt.legend()\n",
    "plt.xlabel('Iteration times')\n",
    "plt.ylabel('Accuracy')\n",
    "plt.show()"
   ]
  },
  {
   "cell_type": "code",
   "execution_count": 371,
   "metadata": {},
   "outputs": [],
   "source": [
    "accuracy3_train4 = []\n",
    "for i in range(4000,28000,2000):\n",
    "    np.random.seed(3)\n",
    "\n",
    "    nn_model3 = mlrose.NeuralNetwork(hidden_nodes = [3], activation = 'relu', \\\n",
    "                                 algorithm = 'genetic_alg', pop_size=50 ,mutation_prob=0.2 ,max_iters = i, \\\n",
    "                                 bias = True, is_classifier = True, learning_rate = 0.01, \\\n",
    "                                 early_stopping = True, clip_max = 1, max_attempts = 100)\n",
    "\n",
    "    nn_model3.fit(train_set_scaler, train_labels_hot)\n",
    "    train_pred3 = nn_model3.predict(train_set_scaler)\n",
    "    train_accuracy3 = accuracy_score(train_labels_hot, train_pred3)\n",
    "    accuracy3_train4 += [train_accuracy3]"
   ]
  },
  {
   "cell_type": "code",
   "execution_count": 28,
   "metadata": {},
   "outputs": [],
   "source": [
    "accuracy3_train5 = []\n",
    "for i in range(4000,28000,2000):\n",
    "    np.random.seed(3)\n",
    "\n",
    "    nn_model3 = mlrose.NeuralNetwork(hidden_nodes = [3], activation = 'relu', \\\n",
    "                                 algorithm = 'genetic_alg', pop_size=50 ,mutation_prob=0.5 ,max_iters = i, \\\n",
    "                                 bias = True, is_classifier = True, learning_rate = 0.01, \\\n",
    "                                 early_stopping = True, clip_max = 1, max_attempts = 100)\n",
    "\n",
    "    nn_model3.fit(train_set_scaler, train_labels_hot)\n",
    "    train_pred3 = nn_model3.predict(train_set_scaler)\n",
    "    train_accuracy3 = accuracy_score(train_labels_hot, train_pred3)\n",
    "    accuracy3_train5 += [train_accuracy3]"
   ]
  },
  {
   "cell_type": "code",
   "execution_count": 373,
   "metadata": {},
   "outputs": [],
   "source": [
    "accuracy3_train6 = []\n",
    "for i in range(4000,28000,2000):\n",
    "    np.random.seed(3)\n",
    "\n",
    "    nn_model3 = mlrose.NeuralNetwork(hidden_nodes = [3], activation = 'relu', \\\n",
    "                                 algorithm = 'genetic_alg', pop_size=50 ,mutation_prob=0.8 ,max_iters = i, \\\n",
    "                                 bias = True, is_classifier = True, learning_rate = 0.01, \\\n",
    "                                 early_stopping = True, clip_max = 1, max_attempts = 100)\n",
    "\n",
    "    nn_model3.fit(train_set_scaler, train_labels_hot)\n",
    "    train_pred3 = nn_model3.predict(train_set_scaler)\n",
    "    train_accuracy3 = accuracy_score(train_labels_hot, train_pred3)\n",
    "    accuracy3_train6 += [train_accuracy3]"
   ]
  },
  {
   "cell_type": "code",
   "execution_count": 374,
   "metadata": {},
   "outputs": [
    {
     "data": {
      "image/png": "[encoded data removed]",
      "text/plain": [
       "<Figure size 432x288 with 1 Axes>"
      ]
     },
     "metadata": {
      "needs_background": "light"
     },
     "output_type": "display_data"
    }
   ],
   "source": [
    "x = range(4000,28000,2000)\n",
    "plt.title('Genetic Algorithm')\n",
    "plt.plot(x,accuracy3_train4,color= 'b',label='Mutation probablity = 0.2')\n",
    "plt.plot(x,accuracy3_train5,color= 'g',label='Mutation probablity = 0.5')\n",
    "plt.plot(x,accuracy3_train6,color= 'c',label='Mutation probablity = 0.8')\n",
    "plt.legend()\n",
    "plt.xlabel('Iteration times')\n",
    "plt.ylabel('Accuracy')\n",
    "plt.show()"
   ]
  },
  {
   "cell_type": "code",
   "execution_count": 41,
   "metadata": {},
   "outputs": [
    {
     "data": {
      "text/plain": [
       "[0.8248175182481752,\n",
       " 0.8248175182481752,\n",
       " 0.8248175182481752,\n",
       " 0.8248175182481752,\n",
       " 0.8248175182481752,\n",
       " 0.8248175182481752,\n",
       " 0.8248175182481752,\n",
       " 0.8248175182481752,\n",
       " 0.8248175182481752,\n",
       " 0.8248175182481752,\n",
       " 0.8248175182481752,\n",
       " 0.8248175182481752]"
      ]
     },
     "execution_count": 41,
     "metadata": {},
     "output_type": "execute_result"
    }
   ],
   "source": [
    "accuracy3_train5"
   ]
  },
  {
   "cell_type": "code",
   "execution_count": 33,
   "metadata": {},
   "outputs": [
    {
     "data": {
      "image/png": "[encoded data removed]",
      "text/plain": [
       "<Figure size 432x288 with 1 Axes>"
      ]
     },
     "metadata": {
      "needs_background": "light"
     },
     "output_type": "display_data"
    }
   ],
   "source": [
    "x = range(4000,28000,2000)\n",
    "plt.title('Overall Comparing')\n",
    "plt.plot(x,accuracy1_train,color= 'b',label='HC')\n",
    "plt.plot(x,accuracy2_train2,color= 'g',label='SA')\n",
    "plt.plot(x,accuracy3_train5,color= 'c',label='GA')\n",
    "plt.legend()\n",
    "plt.xlabel('Iteration times')\n",
    "plt.ylabel('Accuracy')\n",
    "plt.show()"
   ]
  },
  {
   "cell_type": "code",
   "execution_count": 39,
   "metadata": {},
   "outputs": [
    {
     "data": {
      "text/plain": [
       "[0.8123044838373306,\n",
       " 0.8342022940563086,\n",
       " 0.848800834202294,\n",
       " 0.8519290928050052,\n",
       " 0.8519290928050052,\n",
       " 0.8529718456725756,\n",
       " 0.8550573514077163,\n",
       " 0.8550573514077163,\n",
       " 0.8550573514077163,\n",
       " 0.8550573514077163,\n",
       " 0.8550573514077163,\n",
       " 0.8550573514077163]"
      ]
     },
     "execution_count": 39,
     "metadata": {},
     "output_type": "execute_result"
    }
   ],
   "source": [
    "accuracy1_train"
   ]
  },
  {
   "cell_type": "code",
   "execution_count": null,
   "metadata": {},
   "outputs": [],
   "source": [
    "\n"
   ]
  },
  {
   "cell_type": "code",
   "execution_count": 3,
   "metadata": {},
   "outputs": [],
   "source": [
    "\n",
    "coords_list = [[37, 6],[45, 28],[1, 0],[29, 13],[37, 22],[40, 11],[21, 20],[13, 41],[44, 10],\n",
    "                  [25, 21],[13, 50],[9, 14],[3, 11],[7, 15],[5, 31],[16, 31],[23, 22],[48, 39],\n",
    "                  [14, 0],[1, 3],[8, 26],[46, 4],[38, 6],[28, 40],[36, 37],[26, 37],[15, 6],[41, 18],\n",
    "                  [39, 34],[16, 18],[38, 2],[29, 48],[24, 27],[21, 37],[48, 13],[17, 18],[38, 47],[20, 41],\n",
    "                  [47, 11],[2, 11],[50, 4],[3, 24],[36, 42],[15, 3],[27, 36],[6, 25],[25, 42],[4, 30],[5, 19],\n",
    "                  [6, 32]]\n"
   ]
  },
  {
   "cell_type": "code",
   "execution_count": 4,
   "metadata": {},
   "outputs": [],
   "source": [
    "fitness_coords = mlrose.TravellingSales(coords = coords_list)"
   ]
  },
  {
   "cell_type": "code",
   "execution_count": 5,
   "metadata": {},
   "outputs": [],
   "source": [
    "problem_fit = mlrose.TSPOpt(length = 50, fitness_fn = fitness_coords, maximize=False)"
   ]
  },
  {
   "cell_type": "code",
   "execution_count": 6,
   "metadata": {},
   "outputs": [],
   "source": [
    "p1fHC = []\n",
    "for i in range(1,100,1):\n",
    "    np.random.seed(4)\n",
    "    best_state, best_fitness = mlrose.random_hill_climb(problem_fit,max_iters=i)\n",
    "    #print(best_state)\n",
    "    #print(best_fitness)\n",
    "    p1fHC += [best_fitness]"
   ]
  },
  {
   "cell_type": "code",
   "execution_count": 7,
   "metadata": {},
   "outputs": [],
   "source": [
    "p1fSA = []\n",
    "for i in range(1,100,1):\n",
    "    np.random.seed(4)\n",
    "    best_state, best_fitness = mlrose.simulated_annealing(problem_fit,mlrose.GeomDecay(), max_attempts=10, max_iters=i)\n",
    "    p1fSA += [best_fitness]"
   ]
  },
  {
   "cell_type": "code",
   "execution_count": 8,
   "metadata": {},
   "outputs": [],
   "source": [
    "p1fGA = []\n",
    "for i in range(1,100,1):\n",
    "    np.random.seed(4)\n",
    "    best_state, best_fitness = mlrose.genetic_alg(problem_fit, pop_size=50, mutation_prob=0.5, max_attempts=10, max_iters=i)\n",
    "    p1fGA += [best_fitness]"
   ]
  },
  {
   "cell_type": "code",
   "execution_count": 9,
   "metadata": {},
   "outputs": [],
   "source": [
    "p1fMIMIC = []\n",
    "for i in range(1,100,1):\n",
    "    np.random.seed(4)\n",
    "    best_state, best_fitness = mlrose.mimic(problem_fit, pop_size=200, keep_pct=0.2, max_attempts=10, max_iters=i)\n",
    "    p1fMIMIC += [best_fitness]"
   ]
  },
  {
   "cell_type": "code",
   "execution_count": 10,
   "metadata": {},
   "outputs": [
    {
     "data": {
      "image/png": "[encoded data removed]",
      "text/plain": [
       "<Figure size 432x288 with 1 Axes>"
      ]
     },
     "metadata": {
      "needs_background": "light"
     },
     "output_type": "display_data"
    }
   ],
   "source": [
    "plt.title('Traveling Salesman Problem')\n",
    "x = range(1,100,1)\n",
    "plt.plot(x,p1fHC,color='b', label='HC')\n",
    "plt.plot(x,p1fSA,color='g', label='SA')\n",
    "plt.plot(x,p1fGA,color='c', label='GA')\n",
    "plt.plot(x,p1fMIMIC,color='R', label='MIMIC')\n",
    "plt.legend()\n",
    "plt.xlabel('Iteration times')\n",
    "plt.ylabel('Fitness')\n",
    "plt.show()"
   ]
  },
  {
   "cell_type": "code",
   "execution_count": null,
   "metadata": {},
   "outputs": [],
   "source": []
  },
  {
   "cell_type": "code",
   "execution_count": 3,
   "metadata": {},
   "outputs": [],
   "source": [
    "fitness2 = mlrose.FlipFlop()"
   ]
  },
  {
   "cell_type": "code",
   "execution_count": 4,
   "metadata": {},
   "outputs": [],
   "source": [
    "state = np.random.randint(0,2,size=60)"
   ]
  },
  {
   "cell_type": "code",
   "execution_count": 5,
   "metadata": {},
   "outputs": [
    {
     "data": {
      "text/plain": [
       "array([0, 0, 0, 1, 1, 1, 0, 1, 1, 0, 0, 1, 1, 1, 1, 0, 1, 1, 0, 0, 0, 0,\n",
       "       1, 0, 1, 0, 0, 0, 0, 0, 0, 0, 1, 0, 0, 0, 0, 1, 1, 1, 0, 1, 1, 1,\n",
       "       0, 1, 0, 1, 0, 0, 0, 1, 1, 1, 1, 1, 0, 0, 0, 0])"
      ]
     },
     "execution_count": 5,
     "metadata": {},
     "output_type": "execute_result"
    }
   ],
   "source": [
    "state"
   ]
  },
  {
   "cell_type": "code",
   "execution_count": 6,
   "metadata": {},
   "outputs": [],
   "source": [
    "state2 = [1, 1, 0, 0, 0, 0, 0, 1, 0, 1, 0, 0, 1, 1, 0, 0, 1, 1, 1, 0, 0, 1,\n",
    "       0, 1, 0, 0, 0, 1, 1, 0, 1, 1, 0, 1, 1, 0, 0, 1, 0, 0, 0, 0, 0, 0,\n",
    "       1, 0, 1, 0, 0, 0, 0, 0, 0, 1, 0, 1, 0, 0, 1, 0]"
   ]
  },
  {
   "cell_type": "code",
   "execution_count": 7,
   "metadata": {},
   "outputs": [],
   "source": [
    "problem2 = mlrose.DiscreteOpt(length = 60, fitness_fn = fitness2, maximize = False, max_val = 2)"
   ]
  },
  {
   "cell_type": "code",
   "execution_count": 8,
   "metadata": {},
   "outputs": [],
   "source": [
    "best_fitness2_HC = []\n",
    "for i in range(1,100,1):\n",
    "    np.random.seed(4)\n",
    "    best_state2, best_fitness2 = mlrose.random_hill_climb(problem2, init_state=state2,max_iters=i)\n",
    "    best_fitness2_HC += [best_fitness2]"
   ]
  },
  {
   "cell_type": "code",
   "execution_count": 9,
   "metadata": {},
   "outputs": [],
   "source": [
    "best_fitness2_SA = []\n",
    "for i in range(1,100,1):\n",
    "    np.random.seed(4)\n",
    "    best_state2, best_fitness2 = mlrose.simulated_annealing(problem2,mlrose.GeomDecay(), max_attempts=0, max_iters=i, init_state=state2 )\n",
    "    best_fitness2_SA += [best_fitness2]"
   ]
  },
  {
   "cell_type": "code",
   "execution_count": 10,
   "metadata": {},
   "outputs": [],
   "source": [
    "best_fitness2_GA = []\n",
    "for i in range(1,100,1):\n",
    "    np.random.seed(4)\n",
    "    best_state2, best_fitness2 = mlrose.genetic_alg(problem2, pop_size=50, mutation_prob=0.5, max_attempts=10, max_iters=i )\n",
    "    best_fitness2_GA += [best_fitness2]"
   ]
  },
  {
   "cell_type": "code",
   "execution_count": 11,
   "metadata": {},
   "outputs": [],
   "source": [
    "best_fitness2_MIMIC = []\n",
    "for i in range(1,100,1):\n",
    "    np.random.seed(4)\n",
    "    best_state2, best_fitness2 = mlrose.mimic(problem2,pop_size=200, keep_pct=0.2, max_attempts=10, max_iters=i)\n",
    "    best_fitness2_MIMIC += [best_fitness2]"
   ]
  },
  {
   "cell_type": "code",
   "execution_count": 12,
   "metadata": {},
   "outputs": [
    {
     "data": {
      "image/png": "[encoded data removed]",
      "text/plain": [
       "<Figure size 432x288 with 1 Axes>"
      ]
     },
     "metadata": {
      "needs_background": "light"
     },
     "output_type": "display_data"
    }
   ],
   "source": [
    "plt.title('Flip Flop Problem')\n",
    "x = range(1,100,1)\n",
    "plt.plot(x,best_fitness2_HC,color='b', label='HC')\n",
    "plt.plot(x,best_fitness2_SA,color='g', label='SA')\n",
    "plt.plot(x,best_fitness2_GA,color='c', label='GA')\n",
    "plt.plot(x,best_fitness2_MIMIC,color='R', label='MIMIC')\n",
    "plt.legend()\n",
    "plt.xlabel('Iteration times')\n",
    "plt.ylabel('Fitness')\n",
    "plt.show()"
   ]
  },
  {
   "cell_type": "code",
   "execution_count": null,
   "metadata": {},
   "outputs": [],
   "source": []
  },
  {
   "cell_type": "code",
   "execution_count": 242,
   "metadata": {},
   "outputs": [],
   "source": [
    "weights = [ 70,\n",
    " 73,\n",
    " 77,\n",
    " 80,\n",
    " 82,\n",
    " 87,\n",
    " 90,\n",
    " 94,\n",
    " 98,\n",
    "106,\n",
    "110,\n",
    "113,\n",
    "115,\n",
    "118,\n",
    "120]"
   ]
  },
  {
   "cell_type": "code",
   "execution_count": 243,
   "metadata": {},
   "outputs": [],
   "source": [
    "values = [135,\n",
    "139,\n",
    "149,\n",
    "150,\n",
    "156,\n",
    "163,\n",
    "173,\n",
    "184,\n",
    "192,\n",
    "201,\n",
    "210,\n",
    "214,\n",
    "221,\n",
    "229,\n",
    "240 ]\n"
   ]
  },
  {
   "cell_type": "code",
   "execution_count": 227,
   "metadata": {},
   "outputs": [
    {
     "data": {
      "text/plain": [
       "int"
      ]
     },
     "execution_count": 227,
     "metadata": {},
     "output_type": "execute_result"
    }
   ],
   "source": [
    "type(state3[1])"
   ]
  },
  {
   "cell_type": "code",
   "execution_count": 258,
   "metadata": {},
   "outputs": [],
   "source": [
    "state3 = [1, 1, 0, 0, 0, 0, 0, 1, 0, 1, 0, 0, 1, 1, 0]"
   ]
  },
  {
   "cell_type": "code",
   "execution_count": 259,
   "metadata": {},
   "outputs": [
    {
     "data": {
      "text/plain": [
       "15"
      ]
     },
     "execution_count": 259,
     "metadata": {},
     "output_type": "execute_result"
    }
   ],
   "source": [
    "len(state3)"
   ]
  },
  {
   "cell_type": "code",
   "execution_count": 266,
   "metadata": {},
   "outputs": [],
   "source": [
    "fitness3 = mlrose.Knapsack(weights, values, max_weight_pct=1)"
   ]
  },
  {
   "cell_type": "code",
   "execution_count": 277,
   "metadata": {},
   "outputs": [
    {
     "data": {
      "text/plain": [
       "<mlrose.fitness.Knapsack at 0x1a24f824e0>"
      ]
     },
     "execution_count": 277,
     "metadata": {},
     "output_type": "execute_result"
    }
   ],
   "source": [
    "fitness3"
   ]
  },
  {
   "cell_type": "code",
   "execution_count": 281,
   "metadata": {},
   "outputs": [],
   "source": [
    "problem3 = mlrose.DiscreteOpt(length = 15, fitness_fn = fitness3, maximize = True, max_val = 3)"
   ]
  },
  {
   "cell_type": "code",
   "execution_count": 306,
   "metadata": {},
   "outputs": [],
   "source": [
    "best_fitness3_HC = []\n",
    "for i in range(1,100,1):\n",
    "    np.random.seed(4)\n",
    "    best_state3, best_fitness3 = mlrose.random_hill_climb(problem3)\n",
    "    #print(best_state3)\n",
    "    #print(best_fitness3)\n",
    "    best_fitness3_HC += [best_fitness3]"
   ]
  },
  {
   "cell_type": "code",
   "execution_count": 303,
   "metadata": {},
   "outputs": [],
   "source": [
    "best_fitness3_SA = []\n",
    "for i in range(1,100,1):\n",
    "    np.random.seed(4)\n",
    "    best_state3, best_fitness3 = mlrose.simulated_annealing(problem3,mlrose.GeomDecay(), max_attempts=10, max_iters=5000 )\n",
    "    #print(best_state3)\n",
    "    #print(best_fitness3)\n",
    "    best_fitness3_SA += [best_fitness3]"
   ]
  },
  {
   "cell_type": "code",
   "execution_count": null,
   "metadata": {},
   "outputs": [],
   "source": []
  },
  {
   "cell_type": "code",
   "execution_count": 313,
   "metadata": {},
   "outputs": [],
   "source": [
    "best_fitness3_GA = []\n",
    "for i in range(1,100,1):\n",
    "    np.random.seed(4)\n",
    "    best_state3, best_fitness3 = mlrose.genetic_alg(problem3,pop_size=20, mutation_prob=0.1, max_attempts=10, max_iters=3 )\n",
    "    #print(best_state3)\n",
    "    #print(best_fitness3)\n",
    "    best_fitness3_GA += [best_fitness3]"
   ]
  },
  {
   "cell_type": "code",
   "execution_count": null,
   "metadata": {},
   "outputs": [],
   "source": []
  },
  {
   "cell_type": "code",
   "execution_count": 293,
   "metadata": {},
   "outputs": [],
   "source": [
    "best_fitness3_MIMIC = []\n",
    "for i in range(1,100,1):\n",
    "    np.random.seed(4)\n",
    "    best_state3, best_fitness3 = mlrose.mimic(problem3,pop_size=200, keep_pct=0.2, max_attempts=10, max_iters=i)\n",
    "    #print(best_state3)\n",
    "    #print(best_fitness3)\n",
    "    best_fitness3_MIMIC += [best_fitness3]"
   ]
  },
  {
   "cell_type": "code",
   "execution_count": 318,
   "metadata": {},
   "outputs": [
    {
     "data": {
      "image/png": "[encoded data removed]",
      "text/plain": [
       "<Figure size 432x288 with 1 Axes>"
      ]
     },
     "metadata": {
      "needs_background": "light"
     },
     "output_type": "display_data"
    }
   ],
   "source": [
    "plt.title('Knapsack Problem')\n",
    "x = range(1,100,1)\n",
    "plt.plot(x,best_fitness3_HC,color='b', label='HC')\n",
    "plt.plot(x,best_fitness3_SA,color='g', label='SA')\n",
    "plt.plot(x,best_fitness3_GA,color='c', label='GA')\n",
    "plt.plot(x,best_fitness3_MIMIC,color='R', label='MIMIC')\n",
    "plt.legend()\n",
    "plt.xlabel('Iteration times')\n",
    "plt.ylabel('Fitness')\n",
    "plt.show()"
   ]
  },
  {
   "cell_type": "code",
   "execution_count": 13,
   "metadata": {},
   "outputs": [
    {
     "ename": "NameError",
     "evalue": "name 'best_fitness3_HC' is not defined",
     "output_type": "error",
     "traceback": [
      "\u001b[0;31m---------------------------------------------------------------------------\u001b[0m",
      "\u001b[0;31mNameError\u001b[0m                                 Traceback (most recent call last)",
      "\u001b[0;32m<ipython-input-13-63ce376ea0da>\u001b[0m in \u001b[0;36m<module>\u001b[0;34m\u001b[0m\n\u001b[0;32m----> 1\u001b[0;31m \u001b[0mbest_fitness3_HC\u001b[0m\u001b[0;34m\u001b[0m\u001b[0;34m\u001b[0m\u001b[0m\n\u001b[0m",
      "\u001b[0;31mNameError\u001b[0m: name 'best_fitness3_HC' is not defined"
     ]
    }
   ],
   "source": []
  },
  {
   "cell_type": "code",
   "execution_count": null,
   "metadata": {},
   "outputs": [],
   "source": []
  }
 ],
 "metadata": {
  "kernelspec": {
   "display_name": "Python 3",
   "language": "python",
   "name": "python3"
  },
  "language_info": {
   "codemirror_mode": {
    "name": "ipython",
    "version": 3
   },
   "file_extension": ".py",
   "mimetype": "text/x-python",
   "name": "python",
   "nbconvert_exporter": "python",
   "pygments_lexer": "ipython3",
   "version": "3.7.1"
  }
 },
 "nbformat": 4,
 "nbformat_minor": 2
}
